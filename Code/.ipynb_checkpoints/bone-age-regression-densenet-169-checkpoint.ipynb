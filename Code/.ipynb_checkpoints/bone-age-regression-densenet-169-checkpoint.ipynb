{
 "cells": [
  {
   "cell_type": "markdown",
   "metadata": {},
   "source": [
    "# Bone Age Regression\n",
    "\n",
    "+ The objective of this competition is to create a model that predict the Bone Age of children from a Hand X-Ray.\n",
    "+ The training data comes from the RSNA 2017 comp. ,but the test dataset is from a real brazilian hospital provided by [DATA H](http://www.datah.ai/)\n",
    "+ The training dataset contains only images with the left hand (RSNA 2017 competition) but the test dataset contains some images with both hands from a hospital in Brazil. It means that, even though the model will be trained in a different distribution and only with images containing a single hand, it should work with images containing both hands.\n",
    "+ Both datasets (training and test) have a tabular variable which is gender"
   ]
  },
  {
   "cell_type": "markdown",
   "metadata": {},
   "source": [
    "# DenseNet 169 Model with Gender"
   ]
  },
  {
   "cell_type": "markdown",
   "metadata": {},
   "source": [
    "## 1. Importing Libraries"
   ]
  },
  {
   "cell_type": "code",
   "execution_count": 1,
   "metadata": {
    "_cell_guid": "79c7e3d0-c299-4dcb-8224-4455121ee9b0",
    "_uuid": "d629ff2d2480ee46fbb7e2d37f6b5fab8052498a"
   },
   "outputs": [
    {
     "name": "stdout",
     "output_type": "stream",
     "text": [
      "\u001b[33mWARNING: You are using pip version 20.1.1; however, version 20.2 is available.\r\n",
      "You should consider upgrading via the '/opt/conda/bin/python3.7 -m pip install --upgrade pip' command.\u001b[0m\r\n",
      "\u001b[33mWARNING: You are using pip version 20.1.1; however, version 20.2 is available.\r\n",
      "You should consider upgrading via the '/opt/conda/bin/python3.7 -m pip install --upgrade pip' command.\u001b[0m\r\n",
      "Collecting iterative-stratification\r\n",
      "  Downloading iterative_stratification-0.1.6-py3-none-any.whl (8.7 kB)\r\n",
      "Requirement already satisfied: scikit-learn in /opt/conda/lib/python3.7/site-packages (from iterative-stratification) (0.23.1)\r\n",
      "Requirement already satisfied: scipy in /opt/conda/lib/python3.7/site-packages (from iterative-stratification) (1.4.1)\r\n",
      "Requirement already satisfied: numpy in /opt/conda/lib/python3.7/site-packages (from iterative-stratification) (1.18.5)\r\n",
      "Requirement already satisfied: joblib>=0.11 in /opt/conda/lib/python3.7/site-packages (from scikit-learn->iterative-stratification) (0.14.1)\r\n",
      "Requirement already satisfied: threadpoolctl>=2.0.0 in /opt/conda/lib/python3.7/site-packages (from scikit-learn->iterative-stratification) (2.1.0)\r\n",
      "Installing collected packages: iterative-stratification\r\n",
      "Successfully installed iterative-stratification-0.1.6\r\n",
      "\u001b[33mWARNING: You are using pip version 20.1.1; however, version 20.2 is available.\r\n",
      "You should consider upgrading via the '/opt/conda/bin/python3.7 -m pip install --upgrade pip' command.\u001b[0m\r\n"
     ]
    }
   ],
   "source": [
    "! pip install -q albumentations\n",
    "! pip install -q pretrainedmodels\n",
    "! pip install iterative-stratification\n",
    "import os\n",
    "import pandas as pd\n",
    "import numpy as np\n",
    "import seaborn as sns\n",
    "import random\n",
    "import cv2\n",
    "import time\n",
    "import glob\n",
    "import matplotlib.pyplot as plt\n",
    "import albumentations as A\n",
    "import pretrainedmodels\n",
    "import torch \n",
    "import torch.nn as nn\n",
    "import torch.nn.functional as F\n",
    "import torchvision\n",
    "import torchvision.transforms as transforms\n",
    "import torch.optim as optim\n",
    "import warnings\n",
    "import gc\n",
    "from tqdm import tqdm\n",
    "from albumentations import pytorch as AT\n",
    "from sklearn.metrics import mean_squared_error\n",
    "from PIL import Image\n",
    "from torch.utils.data import TensorDataset, DataLoader,Dataset\n",
    "from torch.optim import lr_scheduler\n",
    "from sklearn.model_selection import StratifiedKFold\n",
    "from iterstrat.ml_stratifiers import MultilabelStratifiedKFold\n",
    "from sklearn.metrics import mean_absolute_error\n",
    "# Give ggplot style to images\n",
    "warnings.filterwarnings(\"ignore\")\n",
    "plt.style.use('ggplot')"
   ]
  },
  {
   "cell_type": "markdown",
   "metadata": {},
   "source": [
    "# 2. Functions"
   ]
  },
  {
   "cell_type": "code",
   "execution_count": 2,
   "metadata": {},
   "outputs": [],
   "source": [
    "def seed_everything(seed=1234):\n",
    "    '''\n",
    "    Function to put a seed to every step and make code reproducible\n",
    "    Input:\n",
    "    - seed: random state for the events \n",
    "    '''\n",
    "    np.random.seed(seed)\n",
    "    os.environ['PYTHONHASHSEED'] = str(seed)\n",
    "    np.random.seed(seed)\n",
    "    torch.manual_seed(seed)\n",
    "    torch.cuda.manual_seed(seed)\n",
    "    torch.backends.cudnn.deterministic = True\n",
    "    random.seed(seed)\n",
    "\n",
    "def imshow_gray(inp, title=None):\n",
    "    '''\n",
    "    Funtion to plot a tensor in gray scale\n",
    "    '''\n",
    "    \n",
    "    plt.imshow(inp,cmap='gray', vmin=0, vmax=255)\n",
    "    plt.pause(0.001)  # pause a bit so that plots are updated\n",
    "\n",
    "def imshow(inp, title=None):\n",
    "    \"\"\"Imshow for Tensor.\"\"\"\n",
    "    inp = inp.numpy().transpose((1, 2, 0))\n",
    "    mean = np.array([0.485, 0.456, 0.406])\n",
    "    std = np.array([0.229, 0.224, 0.225])\n",
    "    inp = std * inp + mean\n",
    "    inp = np.clip(inp, 0, 1)\n",
    "    plt.imshow(inp)\n",
    "    if title is not None:\n",
    "        plt.title(title)\n",
    "    plt.pause(0.001)\n",
    "    \n",
    "    \n",
    "def apply_filename_name(row):\n",
    "    return row['fileName'].split('/')[4].split('_side_')[1]\n",
    "\n",
    "def apply_filename_side(row):\n",
    "    return row['ImageFile'].split('/')[4].split('_side_')[0]\n",
    "\n",
    "def apply_filename_name2(row):\n",
    "    return row['ImageFile'].split('/')[4].split('_side_')[1]\n",
    "\n",
    "\n",
    "seed = 64\n",
    "seed_everything(seed = seed)  "
   ]
  },
  {
   "cell_type": "markdown",
   "metadata": {},
   "source": [
    "## 3. Exploring Data"
   ]
  },
  {
   "cell_type": "code",
   "execution_count": 3,
   "metadata": {},
   "outputs": [],
   "source": [
    "# Path in which all the files are saved\n",
    "path           = '/kaggle/input/i2a2-bone-age-regression'\n",
    "path_train_csv = os.path.join(path, 'train.csv')\n",
    "path_test_csv  = os.path.join(path, 'test.csv')\n",
    "path_images    = os.path.join(path, 'images')"
   ]
  },
  {
   "cell_type": "code",
   "execution_count": 4,
   "metadata": {},
   "outputs": [
    {
     "data": {
      "text/html": [
       "<div>\n",
       "<style scoped>\n",
       "    .dataframe tbody tr th:only-of-type {\n",
       "        vertical-align: middle;\n",
       "    }\n",
       "\n",
       "    .dataframe tbody tr th {\n",
       "        vertical-align: top;\n",
       "    }\n",
       "\n",
       "    .dataframe thead th {\n",
       "        text-align: right;\n",
       "    }\n",
       "</style>\n",
       "<table border=\"1\" class=\"dataframe\">\n",
       "  <thead>\n",
       "    <tr style=\"text-align: right;\">\n",
       "      <th></th>\n",
       "      <th>fileName</th>\n",
       "      <th>patientSex</th>\n",
       "      <th>boneage</th>\n",
       "    </tr>\n",
       "  </thead>\n",
       "  <tbody>\n",
       "    <tr>\n",
       "      <th>0</th>\n",
       "      <td>1377.png</td>\n",
       "      <td>F</td>\n",
       "      <td>180</td>\n",
       "    </tr>\n",
       "    <tr>\n",
       "      <th>1</th>\n",
       "      <td>1378.png</td>\n",
       "      <td>F</td>\n",
       "      <td>12</td>\n",
       "    </tr>\n",
       "    <tr>\n",
       "      <th>2</th>\n",
       "      <td>1379.png</td>\n",
       "      <td>F</td>\n",
       "      <td>94</td>\n",
       "    </tr>\n",
       "    <tr>\n",
       "      <th>3</th>\n",
       "      <td>1380.png</td>\n",
       "      <td>M</td>\n",
       "      <td>120</td>\n",
       "    </tr>\n",
       "    <tr>\n",
       "      <th>4</th>\n",
       "      <td>1381.png</td>\n",
       "      <td>F</td>\n",
       "      <td>82</td>\n",
       "    </tr>\n",
       "  </tbody>\n",
       "</table>\n",
       "</div>"
      ],
      "text/plain": [
       "   fileName patientSex  boneage\n",
       "0  1377.png          F      180\n",
       "1  1378.png          F       12\n",
       "2  1379.png          F       94\n",
       "3  1380.png          M      120\n",
       "4  1381.png          F       82"
      ]
     },
     "execution_count": 4,
     "metadata": {},
     "output_type": "execute_result"
    }
   ],
   "source": [
    "# Reading Train & Test csv (Test csv has the indicator of how many hands are int the image\n",
    "# and the vertical line that separate them)\n",
    "df_train = pd.read_csv(path_train_csv)\n",
    "df_test = pd.read_csv(path_test_csv)\n",
    "df_train.head(5)"
   ]
  },
  {
   "cell_type": "markdown",
   "metadata": {},
   "source": [
    "# 4. Validation Strategy\n",
    "\n",
    "+ We make a multi label stratified split because the distributions of the bone age are different for each gender. In order to make a stratified in a regression, we have to discretize the target in chunks and then make a split.\n",
    "\n",
    "+ We are using the library MultilabelStratifiedKFold, but we select just 1 fold for validation and 4 folds for training as in a simple train-test split (80-20%)"
   ]
  },
  {
   "cell_type": "code",
   "execution_count": 5,
   "metadata": {},
   "outputs": [
    {
     "data": {
      "text/html": [
       "<div>\n",
       "<style scoped>\n",
       "    .dataframe tbody tr th:only-of-type {\n",
       "        vertical-align: middle;\n",
       "    }\n",
       "\n",
       "    .dataframe tbody tr th {\n",
       "        vertical-align: top;\n",
       "    }\n",
       "\n",
       "    .dataframe thead th {\n",
       "        text-align: right;\n",
       "    }\n",
       "</style>\n",
       "<table border=\"1\" class=\"dataframe\">\n",
       "  <thead>\n",
       "    <tr style=\"text-align: right;\">\n",
       "      <th></th>\n",
       "      <th>fileName</th>\n",
       "      <th>patientSex</th>\n",
       "      <th>boneage</th>\n",
       "      <th>qcut</th>\n",
       "      <th>fold</th>\n",
       "    </tr>\n",
       "  </thead>\n",
       "  <tbody>\n",
       "    <tr>\n",
       "      <th>0</th>\n",
       "      <td>1377.png</td>\n",
       "      <td>F</td>\n",
       "      <td>180</td>\n",
       "      <td>9</td>\n",
       "      <td>4.0</td>\n",
       "    </tr>\n",
       "    <tr>\n",
       "      <th>1</th>\n",
       "      <td>1378.png</td>\n",
       "      <td>F</td>\n",
       "      <td>12</td>\n",
       "      <td>0</td>\n",
       "      <td>4.0</td>\n",
       "    </tr>\n",
       "    <tr>\n",
       "      <th>2</th>\n",
       "      <td>1379.png</td>\n",
       "      <td>F</td>\n",
       "      <td>94</td>\n",
       "      <td>1</td>\n",
       "      <td>2.0</td>\n",
       "    </tr>\n",
       "    <tr>\n",
       "      <th>3</th>\n",
       "      <td>1380.png</td>\n",
       "      <td>M</td>\n",
       "      <td>120</td>\n",
       "      <td>3</td>\n",
       "      <td>3.0</td>\n",
       "    </tr>\n",
       "    <tr>\n",
       "      <th>4</th>\n",
       "      <td>1381.png</td>\n",
       "      <td>F</td>\n",
       "      <td>82</td>\n",
       "      <td>1</td>\n",
       "      <td>0.0</td>\n",
       "    </tr>\n",
       "  </tbody>\n",
       "</table>\n",
       "</div>"
      ],
      "text/plain": [
       "   fileName patientSex  boneage  qcut  fold\n",
       "0  1377.png          F      180     9   4.0\n",
       "1  1378.png          F       12     0   4.0\n",
       "2  1379.png          F       94     1   2.0\n",
       "3  1380.png          M      120     3   3.0\n",
       "4  1381.png          F       82     1   0.0"
      ]
     },
     "execution_count": 5,
     "metadata": {},
     "output_type": "execute_result"
    }
   ],
   "source": [
    "# Number of folds in order to make a 80-20% training\n",
    "n_folds= 5\n",
    "# Dataframe that will store the folds\n",
    "df_fold = pd.read_csv(path_train_csv)\n",
    "# Discretize the bone age\n",
    "df_fold['qcut'] =pd.qcut(df_train['boneage'], 10 , labels=False)\n",
    "# Initializing the multilabel stratification\n",
    "mskf = MultilabelStratifiedKFold(n_splits = n_folds, shuffle = False, random_state = None)\n",
    "for fold,(train_index, test_index) in enumerate(mskf.split(df_fold, df_fold[['patientSex','qcut']])):\n",
    "    df_fold.loc[test_index,'fold'] = fold\n",
    "\n",
    "# Save the CSV with folds for training\n",
    "df_fold.to_csv('folds.csv')\n",
    "df_fold.head(5)"
   ]
  },
  {
   "cell_type": "code",
   "execution_count": 6,
   "metadata": {},
   "outputs": [
    {
     "data": {
      "image/png": "[encoded data removed]",
      "text/plain": [
       "<Figure size 864x288 with 2 Axes>"
      ]
     },
     "metadata": {},
     "output_type": "display_data"
    }
   ],
   "source": [
    "# Selecting the data for training and validation\n",
    "df_ttrain = df_fold[df_fold['fold'] == 0].reset_index(drop=True)\n",
    "df_tval = df_fold[df_fold['fold'] != 0].reset_index(drop=True)\n",
    "\n",
    "plt.figure(figsize=(12,4))\n",
    "plt.subplot(1,2,1)\n",
    "sns.distplot(df_ttrain[df_ttrain['patientSex']=='M']['boneage'], label = 'Train')\n",
    "sns.distplot(df_tval[df_tval['patientSex']=='M']['boneage'],label = 'Validation')\n",
    "plt.legend()\n",
    "plt.title('Distribution of Bone Age in Gender = M')\n",
    "plt.subplot(1,2,2)\n",
    "sns.distplot(df_ttrain[df_ttrain['patientSex']=='F']['boneage'], label = 'Train')\n",
    "sns.distplot(df_tval[df_tval['patientSex']=='F']['boneage'],label = 'Validation')\n",
    "plt.legend()\n",
    "plt.title('Distribution of Bone Age in Gender = F')\n",
    "plt.tight_layout()\n",
    "plt.show()"
   ]
  },
  {
   "cell_type": "markdown",
   "metadata": {},
   "source": [
    "# 5. Functions and Classes for Modeling"
   ]
  },
  {
   "cell_type": "code",
   "execution_count": 7,
   "metadata": {},
   "outputs": [],
   "source": [
    "class EarlyStopping:\n",
    "    '''\n",
    "    Class for using early stoping with Pytorch\n",
    "    '''\n",
    "    def __init__(self, patience=7, mode=\"max\", delta=0.0001,last_val_score = None):\n",
    "        '''\n",
    "        Init Function:\n",
    "        - patience       : Patience for doing early stopping\n",
    "        - mode           : 'max' if we want to optimize a metric in which more is better, else 'min'.\n",
    "        - delta          : Use to check if the score improve or not in a significant way\n",
    "        - last_val_score : Last value of the metric for checking early stopping \n",
    "                           if we want to continue training a model\n",
    "        '''\n",
    "        self.patience = patience\n",
    "        self.counter = 0\n",
    "        self.mode = mode\n",
    "        self.best_score = None\n",
    "        self.early_stop = False\n",
    "        self.delta = delta\n",
    "        if last_val_score:    \n",
    "            if self.mode == \"min\":\n",
    "                self.val_score = -last_val_score\n",
    "                self.best_score = -last_val_score\n",
    "            else:\n",
    "                self.val_score = last_val_score\n",
    "                self.best_score = last_val_score\n",
    "        else:\n",
    "            if self.mode == \"min\":\n",
    "                self.val_score = np.Inf\n",
    "            else:\n",
    "                self.val_score = -np.Inf\n",
    "\n",
    "    def __call__(self, epoch , epoch_score,model,optimizer,model_path,all_path):\n",
    "        '''\n",
    "        Call for check if the counter of early stopping increase\n",
    "        '''\n",
    "        \n",
    "        if self.mode == \"min\":\n",
    "            score = -1.0 * epoch_score\n",
    "        else:\n",
    "            score = np.copy(epoch_score)\n",
    "\n",
    "        if self.best_score is None:\n",
    "            self.best_score = score\n",
    "            self.save_checkpoint(epoch , epoch_score,model,optimizer,model_path,all_path)\n",
    "        elif score < self.best_score + self.delta:\n",
    "            self.counter += 1\n",
    "            print(\n",
    "                \"EarlyStopping counter: {} out of {}\".format(\n",
    "                    self.counter, self.patience\n",
    "                )\n",
    "            )\n",
    "            if self.counter >= self.patience:\n",
    "                self.early_stop = True\n",
    "        else:\n",
    "            self.best_score = score\n",
    "            self.save_checkpoint(epoch ,epoch_score,model,optimizer,model_path,all_path)\n",
    "            self.counter = 0\n",
    "\n",
    "    def save_checkpoint(self, epoch , epoch_score,model,optimizer,model_path,all_path):\n",
    "        '''\n",
    "        Function  to save the best model if its better on each iteration\n",
    "        Input:\n",
    "        - epoch       : Epoch in which is the model\n",
    "        - epoch_score : Score (Metric specified) on the actual epoch\n",
    "        - model       : Actual model that is been training\n",
    "        - optimizer   : Actual optimizer that is been training\n",
    "        - model_path  : Path in which only the model will be saved\n",
    "        - all_path    : Path in which the model, optimizer and more parameters will be saved\n",
    "        '''\n",
    "        if epoch_score not in [-np.inf, np.inf, -np.nan, np.nan]:\n",
    "            print(\n",
    "                \"Validation score improved ({} --> {}). Saving model!\".format(\n",
    "                    self.val_score, epoch_score\n",
    "                )\n",
    "            )\n",
    "            # Save parameters of the model\n",
    "            torch.save(model.state_dict(), model_path)\n",
    "            # Save Model, optimizer and more parameters\n",
    "            torch.save({\n",
    "                'epoch': epoch,\n",
    "                'model_state_dict': model.state_dict(),\n",
    "                'optimizer_state_dict': optimizer.state_dict(),\n",
    "                'epoch_score': epoch_score,\n",
    "                }, all_path)\n",
    "        self.val_score = epoch_score\n",
    "        \n",
    "class AverageMeter:\n",
    "    \"\"\"\n",
    "    Computes and stores the average and current value\n",
    "    \"\"\"\n",
    "\n",
    "    def __init__(self):\n",
    "\n",
    "        self.val = 0\n",
    "        self.avg = 0\n",
    "        self.sum = 0\n",
    "        self.count = 0\n",
    "\n",
    "    def reset(self):\n",
    "        self.val = 0\n",
    "        self.avg = 0\n",
    "        self.sum = 0\n",
    "        self.count = 0\n",
    "\n",
    "    def update(self, val, n=1):\n",
    "        self.val = val\n",
    "        self.sum += val * n\n",
    "        self.count += n\n",
    "        self.avg = self.sum / self.count\n"
   ]
  },
  {
   "cell_type": "code",
   "execution_count": 8,
   "metadata": {},
   "outputs": [],
   "source": [
    "class BoneAgeDataset_withGender():\n",
    "    '''\n",
    "    Class for loading the images and gender of Bone Age Regression Dataset\n",
    "    '''\n",
    "    def __init__(self, image_paths,gender,targets, augmentations=None):\n",
    "        self.image_paths = image_paths\n",
    "        self.targets = targets\n",
    "        self.augmentations = augmentations\n",
    "        self.gender = gender\n",
    "\n",
    "    def __len__(self):\n",
    "        return len(self.image_paths)\n",
    "\n",
    "    def __getitem__(self, item):\n",
    "        #Calculate image and targets\n",
    "        image   = cv2.imread(self.image_paths[item])\n",
    "        targets = self.targets[item]\n",
    "        gender  = self.gender[item]\n",
    "        # Because is a gray image is not necessary to convert BGR to RGB \n",
    "        # image = cv2.cvtColor(image, cv2.COLOR_BGR2RGB)\n",
    "        \n",
    "        # Augmentations\n",
    "        if self.augmentations is not None: \n",
    "            augmented = self.augmentations(image=image)\n",
    "            image = augmented[\"image\"]\n",
    "        \n",
    "        # Return the image in Tensor format (First the Channels) \n",
    "        image = np.transpose(image, (2, 0, 1)).astype(np.float32)   \n",
    "        \n",
    "        return {\n",
    "            \"image\": torch.tensor(image, dtype=torch.float), \n",
    "            \"targets\": torch.tensor(targets, dtype=torch.long),\n",
    "            \"gender\": torch.tensor(gender, dtype=torch.float)\n",
    "        }    \n",
    "    "
   ]
  },
  {
   "cell_type": "code",
   "execution_count": 9,
   "metadata": {},
   "outputs": [],
   "source": [
    "class Densenet169_withGender(nn.Module):\n",
    "    \n",
    "    def __init__(self, pretrained='imagenet'):\n",
    "        super(Densenet169_withGender, self).__init__()\n",
    "        \n",
    "        self.base_model = pretrainedmodels.__dict__[\"densenet169\"](pretrained=pretrained)\n",
    "        self.l0 = nn.Linear(1664, 512)\n",
    "        self.l1 = nn.Linear(1,32)\n",
    "        self.last_layer = nn.Linear(512+32, 1)\n",
    "        self.drop1 = nn.Dropout(p=0.2)\n",
    "        self.drop2 = nn.Dropout(p=0.2)\n",
    "    \n",
    "    def forward(self, image, gender):\n",
    "        batch_size, _, _, _ = image.shape\n",
    "        \n",
    "        x1 = self.base_model.features(image)\n",
    "        x1 = F.adaptive_avg_pool2d(x1, 1).reshape(batch_size, -1)\n",
    "        x1 = self.l0(x1)\n",
    "        x1 = self.drop2(x1)\n",
    "        x2 = self.l1(gender.reshape(batch_size, -1))\n",
    "        x = torch.cat((x1, x2), dim=1)\n",
    "        x = self.drop1(x)\n",
    "        out = self.last_layer(x)\n",
    "        return out"
   ]
  },
  {
   "cell_type": "markdown",
   "metadata": {},
   "source": [
    "### Train, Validation, Predict Loop"
   ]
  },
  {
   "cell_type": "code",
   "execution_count": 10,
   "metadata": {},
   "outputs": [],
   "source": [
    "def train_loop (data_loader,\n",
    "               model,\n",
    "               optimizer,\n",
    "               device,\n",
    "               scheduler=None,\n",
    "               fp16 = False, # Mix precision of Apex\n",
    "               accumulation_steps=1,\n",
    "               loss_fn = None):\n",
    "    if fp16: \n",
    "        accumulation_steps = 1\n",
    "    # Initialize object Average Meter\n",
    "    losses = AverageMeter()\n",
    "    # List for store predicitons\n",
    "    predictions = []\n",
    "    # Put the model in train mode\n",
    "    model.train() \n",
    "    if accumulation_steps>1:\n",
    "        optimizer.zero_grad()\n",
    "    # Defining the bar tqdm\n",
    "    tk0 = tqdm(data_loader,total = len(data_loader))\n",
    "    for b_idx,data in enumerate(tk0):\n",
    "        # For items image/label\n",
    "        for key,value in data.items(): \n",
    "             # We pass the same dtype as in the Melanoma Class\n",
    "            data[key] = value.to(device)\n",
    "        if accumulation_steps == 1 and b_idx == 0:\n",
    "             # Put the gradients to 0\n",
    "            optimizer.zero_grad()\n",
    "        output_train = model(data['image'],data['gender'])\n",
    "        loss = loss_fn(output_train,data['targets'].reshape(-1,1).type_as(output_train)) \n",
    "        \n",
    "        with torch.set_grad_enabled(True):\n",
    "            if fp16:\n",
    "                with amp.scale_loss(loss,optimizer) as scaled_loss:\n",
    "                    scaled_loss.backward()\n",
    "            else:\n",
    "                loss.backward()\n",
    "            \n",
    "            if (b_idx + 1) % accumulation_steps ==0:\n",
    "                optimizer.step()\n",
    "                if scheduler is not None:\n",
    "                    scheduler.step()\n",
    "                if b_idx > 0:\n",
    "                    optimizer.zero_grad()\n",
    "        # Update loss in the progress bar\n",
    "        losses.update(loss.item(), data_loader.batch_size)\n",
    "        tk0.set_postfix(loss=losses.avg)\n",
    "    # Return the average loss for the epoch\n",
    "    return losses.avg \n",
    "\n",
    "def eval_loop(data_loader,\n",
    "              model,\n",
    "              device,\n",
    "              loss_fn = None):\n",
    "    # Initialize object Average Meter\n",
    "    losses = AverageMeter()\n",
    "    # Initialize list for store final predictions\n",
    "    final_predictions = []\n",
    "    # Put the model in eval mode\n",
    "    model.eval()\n",
    "    with torch.no_grad():\n",
    "        tk0 = tqdm(data_loader, total=len(data_loader))\n",
    "        for b_idx, data in enumerate(tk0):\n",
    "            # For items image/label\n",
    "            for key, value in data.items():\n",
    "                data[key] = value.to(device)\n",
    "            #Calculate the predictions\n",
    "            predictions = model(data['image'],data['gender'])\n",
    "            # Calculate the loss\n",
    "            loss = loss_fn(predictions,data['targets'].reshape(-1,1).type_as(predictions)) \n",
    "            # Pass predictions to CPU mode\n",
    "            predictions = predictions.cpu()\n",
    "            # Update loss\n",
    "            losses.update(loss.item(), data_loader.batch_size)\n",
    "            # Append predictions\n",
    "            final_predictions.append(predictions)\n",
    "            tk0.set_postfix(loss=losses.avg)\n",
    "    #Return final predictions & average loss\n",
    "    return final_predictions, losses.avg \n",
    "\n",
    "\n",
    "def predict(data_loader, model, device):\n",
    "    # Put the model in eval mode\n",
    "    model.eval()\n",
    "    # List for store final predictions\n",
    "    final_predictions = []\n",
    "    with torch.no_grad():\n",
    "        tk0 = tqdm(data_loader, total=len(data_loader))\n",
    "        for b_idx, data in enumerate(tk0):\n",
    "            for key, value in data.items():\n",
    "                data[key] = value.to(device)\n",
    "            predictions = model(data['image'],data['gender'])\n",
    "            predictions = predictions.cpu()\n",
    "            final_predictions.append(predictions)\n",
    "    return final_predictions"
   ]
  },
  {
   "cell_type": "markdown",
   "metadata": {},
   "source": [
    "## Running Training Function\n",
    "\n",
    "+ In this function we run the model training\n",
    "+ Data augmentation for training is:\n",
    "    + Resize: From (1024,2014) -> (512,512). I choose this larger resolution because it gave me better results than     (480,480), (256,256) , (244,244)\n",
    "    + ShiftScaleRotate(shift_limit=0.1, scale_limit=0.1, rotate_limit=15)\n",
    "    + RandomBrightness(limit = 0.2),\n",
    "    + Horizontal & Vercial Flip\n",
    "    + Normalization\n",
    "                        \n",
    "+ Data augmentation for validation is:\n",
    "    + Resize (512,512)\n",
    "    + Horizontal & Vertical Flip (In order to make our model indiferent to position of the hand )\n",
    "    + Normalization\n",
    "\n",
    "+ Model:\n",
    "    + Arquitechture: Resnet 152 with tabular variable (Gender)\n",
    "    + Optimizer: Adam"
   ]
  },
  {
   "cell_type": "code",
   "execution_count": 11,
   "metadata": {},
   "outputs": [],
   "source": [
    "def run_with_gender(fold, prev_model_path = None):\n",
    "    '''\n",
    "    Function to train and evaluate the model\n",
    "    Input:\n",
    "    - fold            : Fold used for evaluation, other folds are used for training\n",
    "    - prev_model_path : Path for a model for continue the training process\n",
    "    '''\n",
    "    # General Parameters\n",
    "    # 1. image_path        : Path that have images for training and evaluation\n",
    "    # 2. df_fold           : Dataframe that has the column folds\n",
    "    # 3. device            : Device used for training\n",
    "    # 4. epochs            : Number of epochs for training\n",
    "    # 5. train_bs          : Training Batch size\n",
    "    # 6. valid_bs          : Validation Batch size\n",
    "    # 7. loss_fn           : Loss function \n",
    "    # 8. model_path        : Path for saving the model\n",
    "    # 9. all_path          : Path for saving the model, optimizer, and other indicators\n",
    "    # 10.df_train          : Dataframe that constains the images for training\n",
    "    # 11.df_valid          : Dataframe that constains the images for validation\n",
    "    \n",
    "    image_path = '/kaggle/input/i2a2-bone-age-regression/images/'\n",
    "    model_path = './Bone_age_Regression_DenseNet_169_with_gender.pt'\n",
    "    all_path = './Files_bone_age_regression_densenet_169_with_gender.pt'\n",
    "    device = 'cuda'\n",
    "    epochs = 60\n",
    "    train_bs = 16\n",
    "    valid_bs = 16\n",
    "    loss_fn = nn.MSELoss()\n",
    "    df_fold = pd.read_csv('folds.csv').rename(columns = {'boneage':'target'})\n",
    "    df_train = df_fold[df_fold.fold != fold].reset_index(drop = True)\n",
    "    df_valid = df_fold[df_fold.fold == fold].reset_index(drop = True)\n",
    "    \n",
    "    # Mean & Standard deviations of Imagenet\n",
    "    mean = (0.485, 0.456, 0.406)\n",
    "    std  = (0.229, 0.224, 0.225)\n",
    "    \n",
    "    # Training data augmentations:\n",
    "    train_aug = A.Compose(\n",
    "                    [\n",
    "                        A.Resize(512,512),\n",
    "                        A.ShiftScaleRotate(shift_limit=0.1, scale_limit=0.1, rotate_limit=10),\n",
    "                        A.RandomBrightness(limit = 0.15),\n",
    "                        A.HorizontalFlip(),\n",
    "                        A.VerticalFlip(),\n",
    "                        A.Normalize(mean,std,max_pixel_value = 255.0, always_apply = True)\n",
    "        \n",
    "                    ]\n",
    "                                       )\n",
    "    \n",
    "    # Special Validation: I want a model that learn with flips\n",
    "    valid_aug = A.Compose(\n",
    "                    [\n",
    "                        A.Resize(512,512),\n",
    "                        A.HorizontalFlip(),\n",
    "                        A.VerticalFlip(),\n",
    "                        A.Normalize(mean,std,max_pixel_value = 255.0, always_apply = True)\n",
    "                        \n",
    "                    ]\n",
    "                         )\n",
    "    \n",
    "    # For Training (Images, Gender, Target)\n",
    "    train_images  = [os.path.join(image_path,i) for i in df_train.fileName.values]\n",
    "    train_genders = (df_train.patientSex =='F').values*1\n",
    "    train_targets = df_train.target.values\n",
    "    \n",
    "    \n",
    "    # For Validation\n",
    "    valid_images  = [os.path.join(image_path,i) for i in df_valid.fileName.values]\n",
    "    valid_genders = (df_valid.patientSex =='F').values*1\n",
    "    valid_targets = df_valid.target.values\n",
    "    \n",
    "\n",
    "    # Creating the Datasets and dataloaders\n",
    "    train_dataset = BoneAgeDataset_withGender(train_images,train_genders,train_targets, augmentations = train_aug)\n",
    "    valid_dataset = BoneAgeDataset_withGender(valid_images,valid_genders,valid_targets, augmentations = valid_aug)\n",
    "    \n",
    "    train_dataloader = torch.utils.data.DataLoader(\n",
    "                        train_dataset,\n",
    "                        batch_size = train_bs,\n",
    "                        shuffle = True,\n",
    "                        num_workers = 4\n",
    "                        )\n",
    "    \n",
    "    valid_dataloader = torch.utils.data.DataLoader(\n",
    "                        valid_dataset,\n",
    "                        batch_size = valid_bs,\n",
    "                        shuffle = False, \n",
    "                        num_workers = 4\n",
    "                        )\n",
    "    \n",
    "    # Flag for indetify if we will continue training\n",
    "    if prev_model_path!= None:\n",
    "        print('Loading Previous modeling...')\n",
    "        checkpoint = torch.load(prev_model_path)\n",
    "        # Loading Model\n",
    "        # 1. Model\n",
    "        model = Densenet169_withGender()\n",
    "        model.load_state_dict(checkpoint['model_state_dict'])\n",
    "        model.to(device)\n",
    "        # 2.Optmizer\n",
    "        optimizer = torch.optim.Adam(model.parameters())\n",
    "        optimizer.load_state_dict(checkpoint['optimizer_state_dict'])\n",
    "        # 3. Epoch\n",
    "        epoch_score = checkpoint['epoch_score']\n",
    "        epoch_last = checkpoint['epoch']\n",
    "        # 4. Early Stopping\n",
    "        es = EarlyStopping (patience = 5, mode = 'min',last_val_score = epoch_score)\n",
    "        print('Last number epoch: ',epoch_last)\n",
    "        \n",
    "    else:    \n",
    "        print(\"****** Init Training ******\")        \n",
    "        str_='Init Training'\n",
    "        os.system('echo '+str_)\n",
    "        model = Densenet169_withGender()\n",
    "        model.to(device)\n",
    "\n",
    "        optimizer = torch.optim.Adam(model.parameters(), lr = 1e-4)\n",
    "        scheduler = torch.optim.lr_scheduler.ReduceLROnPlateau(\n",
    "                    optimizer,\n",
    "                    patience = 3,\n",
    "                    mode = \"min\" \n",
    "                    )\n",
    "\n",
    "        es = EarlyStopping (patience = 5, mode = 'min')\n",
    "    \n",
    "    \n",
    "    losses_train = []\n",
    "    losses_val   = []\n",
    "    rmse_val_list   = []\n",
    "    for epoch in range(epochs):\n",
    "        # Training Loop\n",
    "        training_loss = train_loop(train_dataloader,\n",
    "                                   model,\n",
    "                                   optimizer,\n",
    "                                   device,\n",
    "                                   scheduler=None, # We are using LRonPlateu\n",
    "                                   fp16 = False,\n",
    "                                   accumulation_steps=1,\n",
    "                                   loss_fn = loss_fn)\n",
    "        \n",
    "        # Validation Loop\n",
    "        predictions, valid_loss = eval_loop(valid_dataloader,\n",
    "                                            model, \n",
    "                                            device,\n",
    "                                            loss_fn= loss_fn)\n",
    "        \n",
    "        predictions = np.vstack((predictions)).ravel() \n",
    "        rmse_score  = np.sqrt(mean_squared_error(valid_targets,predictions))\n",
    "        mae_score   = mean_absolute_error(valid_targets,predictions)\n",
    "        str_=f'epoch={epoch},rmse={rmse_score}, mse_score = {mae_score}'\n",
    "        os.system('echo '+str_)\n",
    "        # Optimizer Step:\n",
    "        scheduler.step(rmse_score)\n",
    "        print('Epoch {}, lr {}'.format(epoch, optimizer.param_groups[0]['lr']))\n",
    "        print(f'epoch={epoch},rmse={rmse_score}, mse_score = {mae_score}')\n",
    "        es(epoch,rmse_score,model,optimizer, model_path,all_path)\n",
    "        # Saving losses:\n",
    "        losses_train.append(training_loss)\n",
    "        losses_val.append(valid_loss)\n",
    "        rmse_val_list.append(rmse_score)\n",
    "        if es.early_stop:\n",
    "            print('early stopping')\n",
    "            break\n",
    "        gc.collect()\n",
    "        \n",
    "    return losses_train,losses_val,rmse_val_list"
   ]
  },
  {
   "cell_type": "code",
   "execution_count": 12,
   "metadata": {},
   "outputs": [
    {
     "name": "stdout",
     "output_type": "stream",
     "text": [
      "****** Init Training ******\n"
     ]
    },
    {
     "name": "stderr",
     "output_type": "stream",
     "text": [
      "Downloading: \"http://data.lip6.fr/cadene/pretrainedmodels/densenet169-f470b90a4.pth\" to /root/.cache/torch/checkpoints/densenet169-f470b90a4.pth\n"
     ]
    },
    {
     "data": {
      "application/vnd.jupyter.widget-view+json": {
       "model_id": "b34bbc9a288140a7a3c430527aaeb06e",
       "version_major": 2,
       "version_minor": 0
      },
      "text/plain": [
       "HBox(children=(FloatProgress(value=0.0, max=57372314.0), HTML(value='')))"
      ]
     },
     "metadata": {},
     "output_type": "display_data"
    },
    {
     "name": "stdout",
     "output_type": "stream",
     "text": [
      "\n"
     ]
    },
    {
     "name": "stderr",
     "output_type": "stream",
     "text": [
      "100%|██████████| 631/631 [06:43<00:00,  1.56it/s, loss=2.65e+3]\n",
      "100%|██████████| 158/158 [00:49<00:00,  3.17it/s, loss=382]\n"
     ]
    },
    {
     "name": "stdout",
     "output_type": "stream",
     "text": [
      "Epoch 0, lr 0.0001\n",
      "epoch=0,rmse=19.554462115141494, mse_score = 15.973515291323608\n",
      "Validation score improved (inf --> 19.554462115141494). Saving model!\n"
     ]
    },
    {
     "name": "stderr",
     "output_type": "stream",
     "text": [
      "100%|██████████| 631/631 [06:39<00:00,  1.58it/s, loss=300]\n",
      "100%|██████████| 158/158 [00:49<00:00,  3.19it/s, loss=174]\n"
     ]
    },
    {
     "name": "stdout",
     "output_type": "stream",
     "text": [
      "Epoch 1, lr 0.0001\n",
      "epoch=1,rmse=13.175870496073292, mse_score = 10.351015684768127\n",
      "Validation score improved (19.554462115141494 --> 13.175870496073292). Saving model!\n"
     ]
    },
    {
     "name": "stderr",
     "output_type": "stream",
     "text": [
      "100%|██████████| 631/631 [06:41<00:00,  1.57it/s, loss=285]\n",
      "100%|██████████| 158/158 [00:51<00:00,  3.07it/s, loss=179]\n",
      "  0%|          | 0/631 [00:00<?, ?it/s]"
     ]
    },
    {
     "name": "stdout",
     "output_type": "stream",
     "text": [
      "Epoch 2, lr 0.0001\n",
      "epoch=2,rmse=13.366806735805236, mse_score = 10.47949184881899\n",
      "EarlyStopping counter: 1 out of 5\n"
     ]
    },
    {
     "name": "stderr",
     "output_type": "stream",
     "text": [
      "100%|██████████| 631/631 [06:43<00:00,  1.56it/s, loss=267]\n",
      "100%|██████████| 158/158 [00:50<00:00,  3.11it/s, loss=179]\n",
      "  0%|          | 0/631 [00:00<?, ?it/s]"
     ]
    },
    {
     "name": "stdout",
     "output_type": "stream",
     "text": [
      "Epoch 3, lr 0.0001\n",
      "epoch=3,rmse=13.36729676508391, mse_score = 10.400496968710844\n",
      "EarlyStopping counter: 2 out of 5\n"
     ]
    },
    {
     "name": "stderr",
     "output_type": "stream",
     "text": [
      "100%|██████████| 631/631 [06:45<00:00,  1.56it/s, loss=264]\n",
      "100%|██████████| 158/158 [00:51<00:00,  3.07it/s, loss=168]\n"
     ]
    },
    {
     "name": "stdout",
     "output_type": "stream",
     "text": [
      "Epoch 4, lr 0.0001\n",
      "epoch=4,rmse=12.956798558282985, mse_score = 10.074767929738446\n",
      "Validation score improved (13.175870496073292 --> 12.956798558282985). Saving model!\n"
     ]
    },
    {
     "name": "stderr",
     "output_type": "stream",
     "text": [
      "100%|██████████| 631/631 [06:45<00:00,  1.56it/s, loss=254]\n",
      "100%|██████████| 158/158 [00:51<00:00,  3.07it/s, loss=157]\n"
     ]
    },
    {
     "name": "stdout",
     "output_type": "stream",
     "text": [
      "Epoch 5, lr 0.0001\n",
      "epoch=5,rmse=12.545228540893698, mse_score = 9.81984499320122\n",
      "Validation score improved (12.956798558282985 --> 12.545228540893698). Saving model!\n"
     ]
    },
    {
     "name": "stderr",
     "output_type": "stream",
     "text": [
      "100%|██████████| 631/631 [06:46<00:00,  1.55it/s, loss=259]\n",
      "100%|██████████| 158/158 [00:52<00:00,  2.99it/s, loss=174]\n",
      "  0%|          | 0/631 [00:00<?, ?it/s]"
     ]
    },
    {
     "name": "stdout",
     "output_type": "stream",
     "text": [
      "Epoch 6, lr 0.0001\n",
      "epoch=6,rmse=13.183724076527877, mse_score = 10.35791884383369\n",
      "EarlyStopping counter: 1 out of 5\n"
     ]
    },
    {
     "name": "stderr",
     "output_type": "stream",
     "text": [
      "100%|██████████| 631/631 [06:46<00:00,  1.55it/s, loss=263]\n",
      "100%|██████████| 158/158 [00:51<00:00,  3.04it/s, loss=179]\n",
      "  0%|          | 0/631 [00:00<?, ?it/s]"
     ]
    },
    {
     "name": "stdout",
     "output_type": "stream",
     "text": [
      "Epoch 7, lr 0.0001\n",
      "epoch=7,rmse=13.362342562834533, mse_score = 10.467076555550028\n",
      "EarlyStopping counter: 2 out of 5\n"
     ]
    },
    {
     "name": "stderr",
     "output_type": "stream",
     "text": [
      "100%|██████████| 631/631 [06:48<00:00,  1.55it/s, loss=252]\n",
      "100%|██████████| 158/158 [00:53<00:00,  2.97it/s, loss=185]\n",
      "  0%|          | 0/631 [00:00<?, ?it/s]"
     ]
    },
    {
     "name": "stdout",
     "output_type": "stream",
     "text": [
      "Epoch 8, lr 0.0001\n",
      "epoch=8,rmse=13.594889796503832, mse_score = 10.773124222003228\n",
      "EarlyStopping counter: 3 out of 5\n"
     ]
    },
    {
     "name": "stderr",
     "output_type": "stream",
     "text": [
      "100%|██████████| 631/631 [06:48<00:00,  1.54it/s, loss=242]\n",
      "100%|██████████| 158/158 [00:53<00:00,  2.95it/s, loss=134]\n"
     ]
    },
    {
     "name": "stdout",
     "output_type": "stream",
     "text": [
      "Epoch 9, lr 0.0001\n",
      "epoch=9,rmse=11.588643954583826, mse_score = 9.017004739184536\n",
      "Validation score improved (12.545228540893698 --> 11.588643954583826). Saving model!\n"
     ]
    },
    {
     "name": "stderr",
     "output_type": "stream",
     "text": [
      "100%|██████████| 631/631 [06:49<00:00,  1.54it/s, loss=237]\n",
      "100%|██████████| 158/158 [00:53<00:00,  2.98it/s, loss=131]\n"
     ]
    },
    {
     "name": "stdout",
     "output_type": "stream",
     "text": [
      "Epoch 10, lr 0.0001\n",
      "epoch=10,rmse=11.463630164959728, mse_score = 8.880630770326842\n",
      "Validation score improved (11.588643954583826 --> 11.463630164959728). Saving model!\n"
     ]
    },
    {
     "name": "stderr",
     "output_type": "stream",
     "text": [
      "100%|██████████| 631/631 [06:49<00:00,  1.54it/s, loss=216]\n",
      "100%|██████████| 631/631 [06:51<00:00,  1.53it/s, loss=223]\n",
      "100%|██████████| 158/158 [00:54<00:00,  2.89it/s, loss=124]\n",
      "  0%|          | 0/631 [00:00<?, ?it/s]"
     ]
    },
    {
     "name": "stdout",
     "output_type": "stream",
     "text": [
      "Epoch 14, lr 0.0001\n",
      "epoch=14,rmse=11.143946225680974, mse_score = 8.537688792460598\n",
      "EarlyStopping counter: 1 out of 5\n"
     ]
    },
    {
     "name": "stderr",
     "output_type": "stream",
     "text": [
      "100%|██████████| 631/631 [06:52<00:00,  1.53it/s, loss=223]\n",
      "100%|██████████| 158/158 [00:54<00:00,  2.91it/s, loss=134]\n",
      "  0%|          | 0/631 [00:00<?, ?it/s]"
     ]
    },
    {
     "name": "stdout",
     "output_type": "stream",
     "text": [
      "Epoch 15, lr 0.0001\n",
      "epoch=15,rmse=11.58442915169372, mse_score = 9.215112743234048\n",
      "EarlyStopping counter: 2 out of 5\n"
     ]
    },
    {
     "name": "stderr",
     "output_type": "stream",
     "text": [
      "100%|██████████| 158/158 [00:55<00:00,  2.87it/s, loss=119]\n"
     ]
    },
    {
     "name": "stdout",
     "output_type": "stream",
     "text": [
      "Epoch 16, lr 0.0001\n",
      "epoch=16,rmse=10.916991438945578, mse_score = 8.45118248452046\n",
      "Validation score improved (11.068011412470456 --> 10.916991438945578). Saving model!\n"
     ]
    },
    {
     "name": "stderr",
     "output_type": "stream",
     "text": [
      "100%|██████████| 631/631 [06:54<00:00,  1.52it/s, loss=212]\n",
      "100%|██████████| 158/158 [00:55<00:00,  2.82it/s, loss=125]\n",
      "  0%|          | 0/631 [00:00<?, ?it/s]"
     ]
    },
    {
     "name": "stdout",
     "output_type": "stream",
     "text": [
      "Epoch 21, lr 0.0001\n",
      "epoch=21,rmse=11.196031891140667, mse_score = 8.540937209067025\n",
      "EarlyStopping counter: 2 out of 5\n"
     ]
    },
    {
     "name": "stderr",
     "output_type": "stream",
     "text": [
      "100%|██████████| 631/631 [06:55<00:00,  1.52it/s, loss=198]\n",
      "100%|██████████| 158/158 [00:55<00:00,  2.84it/s, loss=149]\n",
      "  0%|          | 0/631 [00:00<?, ?it/s]"
     ]
    },
    {
     "name": "stdout",
     "output_type": "stream",
     "text": [
      "Epoch 22, lr 0.0001\n",
      "epoch=22,rmse=12.192504087199607, mse_score = 9.685166327255471\n",
      "EarlyStopping counter: 3 out of 5\n"
     ]
    },
    {
     "name": "stderr",
     "output_type": "stream",
     "text": [
      "100%|██████████| 631/631 [06:53<00:00,  1.52it/s, loss=175]\n",
      "100%|██████████| 158/158 [00:54<00:00,  2.90it/s, loss=105]\n",
      "  0%|          | 0/631 [00:00<?, ?it/s]"
     ]
    },
    {
     "name": "stdout",
     "output_type": "stream",
     "text": [
      "Epoch 26, lr 1e-05\n",
      "epoch=26,rmse=10.229928028403902, mse_score = 7.912802915274506\n",
      "EarlyStopping counter: 2 out of 5\n"
     ]
    },
    {
     "name": "stderr",
     "output_type": "stream",
     "text": [
      "100%|██████████| 631/631 [06:55<00:00,  1.52it/s, loss=177]\n",
      "100%|██████████| 158/158 [00:55<00:00,  2.85it/s, loss=104]\n",
      "  0%|          | 0/631 [00:00<?, ?it/s]"
     ]
    },
    {
     "name": "stdout",
     "output_type": "stream",
     "text": [
      "Epoch 27, lr 1e-05\n",
      "epoch=27,rmse=10.203710671589045, mse_score = 7.764621342263239\n",
      "EarlyStopping counter: 3 out of 5\n"
     ]
    },
    {
     "name": "stderr",
     "output_type": "stream",
     "text": [
      "100%|██████████| 631/631 [06:54<00:00,  1.52it/s, loss=177]\n",
      "100%|██████████| 158/158 [00:54<00:00,  2.88it/s, loss=99.6]\n"
     ]
    },
    {
     "name": "stdout",
     "output_type": "stream",
     "text": [
      "Epoch 31, lr 1.0000000000000002e-06\n",
      "epoch=31,rmse=9.981360638544793, mse_score = 7.653398010875326\n",
      "Validation score improved (9.98272692935057 --> 9.981360638544793). Saving model!\n"
     ]
    },
    {
     "name": "stderr",
     "output_type": "stream",
     "text": [
      "100%|██████████| 158/158 [00:55<00:00,  2.87it/s, loss=103]\n",
      "  0%|          | 0/631 [00:00<?, ?it/s]"
     ]
    },
    {
     "name": "stdout",
     "output_type": "stream",
     "text": [
      "Epoch 32, lr 1.0000000000000002e-06\n",
      "epoch=32,rmse=10.14078411119411, mse_score = 7.742921512655166\n",
      "EarlyStopping counter: 1 out of 5\n"
     ]
    },
    {
     "name": "stderr",
     "output_type": "stream",
     "text": [
      "100%|██████████| 631/631 [06:52<00:00,  1.53it/s, loss=178]\n",
      "100%|██████████| 158/158 [00:54<00:00,  2.90it/s, loss=97.4]\n"
     ]
    },
    {
     "name": "stdout",
     "output_type": "stream",
     "text": [
      "Epoch 37, lr 1.0000000000000002e-06\n",
      "epoch=37,rmse=9.871478948223354, mse_score = 7.565769339949661\n",
      "Validation score improved (9.957465032944302 --> 9.871478948223354). Saving model!\n"
     ]
    },
    {
     "name": "stderr",
     "output_type": "stream",
     "text": [
      "100%|██████████| 631/631 [06:52<00:00,  1.53it/s, loss=173]\n",
      "100%|██████████| 631/631 [06:53<00:00,  1.53it/s, loss=177]\n",
      "100%|██████████| 631/631 [06:54<00:00,  1.52it/s, loss=184]\n",
      "100%|██████████| 631/631 [06:55<00:00,  1.52it/s, loss=175]\n",
      "100%|██████████| 158/158 [00:55<00:00,  2.85it/s, loss=96.7]\n"
     ]
    },
    {
     "name": "stdout",
     "output_type": "stream",
     "text": [
      "Epoch 45, lr 1.0000000000000002e-07\n",
      "epoch=45,rmse=9.834460474302974, mse_score = 7.503742480816654\n",
      "Validation score improved (9.842142102215556 --> 9.834460474302974). Saving model!\n"
     ]
    },
    {
     "name": "stderr",
     "output_type": "stream",
     "text": [
      "100%|██████████| 631/631 [06:54<00:00,  1.52it/s, loss=178]\n",
      "100%|██████████| 158/158 [00:54<00:00,  2.88it/s, loss=101]\n",
      "  0%|          | 0/631 [00:00<?, ?it/s]"
     ]
    },
    {
     "name": "stdout",
     "output_type": "stream",
     "text": [
      "Epoch 46, lr 1.0000000000000002e-07\n",
      "epoch=46,rmse=10.063284164365589, mse_score = 7.664958711942415\n",
      "EarlyStopping counter: 1 out of 5\n"
     ]
    },
    {
     "name": "stderr",
     "output_type": "stream",
     "text": [
      "100%|██████████| 631/631 [06:54<00:00,  1.52it/s, loss=170]\n",
      "100%|██████████| 158/158 [00:55<00:00,  2.87it/s, loss=101]\n",
      "  0%|          | 0/631 [00:00<?, ?it/s]"
     ]
    },
    {
     "name": "stdout",
     "output_type": "stream",
     "text": [
      "Epoch 47, lr 1.0000000000000002e-07\n",
      "epoch=47,rmse=10.040848513996146, mse_score = 7.66442863099215\n",
      "EarlyStopping counter: 2 out of 5\n"
     ]
    },
    {
     "name": "stderr",
     "output_type": "stream",
     "text": [
      " 41%|████▏     | 261/631 [02:51<04:01,  1.53it/s, loss=182]"
     ]
    }
   ],
   "source": [
    "losses_train,losses_val,rmse_val_list = run_with_gender(fold=0)"
   ]
  },
  {
   "cell_type": "markdown",
   "metadata": {},
   "source": [
    "## Plotting Losses & Rmse"
   ]
  },
  {
   "cell_type": "code",
   "execution_count": 13,
   "metadata": {},
   "outputs": [
    {
     "data": {
      "image/png": "[encoded data removed]",
      "text/plain": [
       "<Figure size 576x288 with 2 Axes>"
      ]
     },
     "metadata": {},
     "output_type": "display_data"
    }
   ],
   "source": [
    "indexes = [i for i in range(1,len(losses_train)+1)]\n",
    "fig, ax = plt.subplots(1, 1, figsize=(8,4))\n",
    "# 1.3 Plot Frequency with bad rate line and reference\n",
    "# 1.3.1 Barplot \n",
    "color = 'tab:blue'\n",
    "ax.set_title('DenseNet 169')\n",
    "ax.yaxis.set_label_position(\"left\")\n",
    "ax.set_ylabel('Loss', color=color) \n",
    "ax.yaxis.tick_left()\n",
    "ax.tick_params(axis='x', rotation=45)\n",
    "ax.tick_params(axis='y', labelcolor=color)\n",
    "ax.plot(indexes,losses_train, color = 'b', linestyle = \"solid\", label = 'Train Loss')\n",
    "ax.plot(indexes,losses_val, color = 'g', linestyle = \"solid\",label = 'Val Loss')\n",
    "# Plot Line\n",
    "\n",
    "# Put the percentage on the bars\n",
    "\n",
    "# 1.3.2 Adding bad rate line and reference  \n",
    "ax2 = fig.add_subplot(1, 1, 1, sharex = ax, frameon = False)\n",
    "color = 'tab:red'\n",
    "ax2.plot(indexes,rmse_val_list, color = 'r', linestyle = \"solid\",label = 'RMSE-VAL')\n",
    "ax2.yaxis.set_label_position(\"right\")\n",
    "ax2.set_ylabel('RMSE - VAL', color=color) \n",
    "ax2.yaxis.tick_right()\n",
    "ax2.tick_params(axis='y', labelcolor=color)\n",
    "ax.legend()\n",
    "ax2.axes.get_xaxis().set_visible(False)\n",
    "ax2.grid(False)"
   ]
  },
  {
   "cell_type": "markdown",
   "metadata": {},
   "source": [
    "# 6. Predict \n",
    "\n",
    "+ In this step we load the images that has been preprocessing for the test from a brazilian hospital"
   ]
  },
  {
   "cell_type": "code",
   "execution_count": 14,
   "metadata": {},
   "outputs": [],
   "source": [
    "images_test = glob.glob(os.path.join('../input/bone-age-regression-test-dataset/test_images_padding','*.png'))"
   ]
  },
  {
   "cell_type": "markdown",
   "metadata": {},
   "source": [
    "## Make Prediction file"
   ]
  },
  {
   "cell_type": "code",
   "execution_count": 15,
   "metadata": {},
   "outputs": [],
   "source": [
    "# Create a Dataframe for evaluating images from preprocesed test\n",
    "df_preproc_test = pd.DataFrame()\n",
    "df_preproc_test['ListName'] = images_test\n",
    "df_preproc_test['fileName'] = images_test\n",
    "df_preproc_test['fileName'] = df_preproc_test.apply(lambda x: apply_filename_name(x),axis = 1)\n",
    "df_preproc_test = df_preproc_test.merge(pd.read_csv(os.path.join(path,'sample_submission.csv')),on='fileName')\n",
    "\n",
    "# Loading Model \n",
    "checkpoint = torch.load('./Files_bone_age_regression_densenet_169_with_gender.pt')\n",
    "model_resnet = Densenet169_withGender()\n",
    "model_resnet.load_state_dict(checkpoint['model_state_dict'])\n",
    "model_resnet.to('cuda')\n",
    "\n",
    "# Parameters needed for test\n",
    "list_test = df_preproc_test['ListName'].values\n",
    "test_targets = [-1]*len(list_test)\n",
    "test_gender = (df_preproc_test.patientSex =='F').values*1\n",
    "\n",
    "mean = (0.485, 0.456, 0.406)\n",
    "std  = (0.229, 0.224, 0.225)\n",
    "\n",
    "# Augmentation for test\n",
    "test_aug = A.Compose(\n",
    "                    [\n",
    "                        A.Resize(512,512),\n",
    "                        A.Normalize(mean,std,max_pixel_value = 255.0, always_apply = True)\n",
    "                        \n",
    "                    ]\n",
    "                                       )\n",
    "# Creating the Datasets and dataloaders for test\n",
    "\n",
    "test_dataset = BoneAgeDataset_withGender(list_test, test_gender, test_targets, augmentations = test_aug)\n",
    "test_dataloader = torch.utils.data.DataLoader(\n",
    "                    test_dataset,\n",
    "                    batch_size = 16,\n",
    "                    shuffle = False, # Keep it False with wtfml and evaluate the metric\n",
    "                    num_workers = 4\n",
    "                    )\n",
    "\n",
    "test_pred = predict(test_dataloader, model_resnet, 'cuda')\n",
    "\n",
    "# Create submission for Kaggle competition\n",
    "\n",
    "df_sub = pd.DataFrame()\n",
    "df_sub['ImageFile'] = list_test\n",
    "df_sub['boneage'] = np.vstack((test_pred)).ravel()\n",
    "df_sub['Image_Side'] = df_sub.apply(lambda x: apply_filename_side(x),axis = 1)\n",
    "df_sub['fileName'] = df_sub.apply(lambda x: apply_filename_name2(x),axis = 1)\n",
    "\n",
    "# Get the mean of predicition of each image\n",
    "df_sub   = df_sub.groupby(['fileName'])['boneage'].mean()\n",
    "df_final = pd.read_csv(os.path.join(path,'sample_submission.csv'))\n",
    "df_final.drop(columns = 'boneage',inplace = True)\n",
    "df_final = df_final.merge(df_sub,on='fileName')[['fileName','boneage','patientSex']]\n",
    "df_final2 = df_final.copy()\n",
    "df_final = df_final.drop(columns='patientSex') \n",
    "df_final.to_csv('Submission_DenseNet_169.csv',index=False)"
   ]
  }
 ],
 "metadata": {
  "kernelspec": {
   "display_name": "Python 3",
   "language": "python",
   "name": "python3"
  },
  "language_info": {
   "codemirror_mode": {
    "name": "ipython",
    "version": 3
   },
   "file_extension": ".py",
   "mimetype": "text/x-python",
   "name": "python",
   "nbconvert_exporter": "python",
   "pygments_lexer": "ipython3",
   "version": "3.7.3"
  },
  "widgets": {
   "application/vnd.jupyter.widget-state+json": {
    "state": {
     "1fbadf4c032e4a5982dfdcab9069a7e3": {
      "model_module": "@jupyter-widgets/controls",
      "model_module_version": "1.5.0",
      "model_name": "HTMLModel",
      "state": {
       "_dom_classes": [],
       "_model_module": "@jupyter-widgets/controls",
       "_model_module_version": "1.5.0",
       "_model_name": "HTMLModel",
       "_view_count": null,
       "_view_module": "@jupyter-widgets/controls",
       "_view_module_version": "1.5.0",
       "_view_name": "HTMLView",
       "description": "",
       "description_tooltip": null,
       "layout": "IPY_MODEL_dd2791d3c713437da43e81c00b6a9323",
       "placeholder": "​",
       "style": "IPY_MODEL_f3c00d9aab9d4dfd8da195c600845a1d",
       "value": " 54.7M/54.7M [02:41&lt;00:00, 355kB/s]"
      }
     },
     "51eaebbb09034702b4e5eba2fe8d11e0": {
      "model_module": "@jupyter-widgets/controls",
      "model_module_version": "1.5.0",
      "model_name": "FloatProgressModel",
      "state": {
       "_dom_classes": [],
       "_model_module": "@jupyter-widgets/controls",
       "_model_module_version": "1.5.0",
       "_model_name": "FloatProgressModel",
       "_view_count": null,
       "_view_module": "@jupyter-widgets/controls",
       "_view_module_version": "1.5.0",
       "_view_name": "ProgressView",
       "bar_style": "success",
       "description": "100%",
       "description_tooltip": null,
       "layout": "IPY_MODEL_d7dd810359624171b24aea96a2732874",
       "max": 57372314,
       "min": 0,
       "orientation": "horizontal",
       "style": "IPY_MODEL_c696c2ddb7ca4ffaab5190e2f5c43b1f",
       "value": 57372314
      }
     },
     "785f64afd8b945809f3ef2322e263aae": {
      "model_module": "@jupyter-widgets/base",
      "model_module_version": "1.2.0",
      "model_name": "LayoutModel",
      "state": {
       "_model_module": "@jupyter-widgets/base",
       "_model_module_version": "1.2.0",
       "_model_name": "LayoutModel",
       "_view_count": null,
       "_view_module": "@jupyter-widgets/base",
       "_view_module_version": "1.2.0",
       "_view_name": "LayoutView",
       "align_content": null,
       "align_items": null,
       "align_self": null,
       "border": null,
       "bottom": null,
       "display": null,
       "flex": null,
       "flex_flow": null,
       "grid_area": null,
       "grid_auto_columns": null,
       "grid_auto_flow": null,
       "grid_auto_rows": null,
       "grid_column": null,
       "grid_gap": null,
       "grid_row": null,
       "grid_template_areas": null,
       "grid_template_columns": null,
       "grid_template_rows": null,
       "height": null,
       "justify_content": null,
       "justify_items": null,
       "left": null,
       "margin": null,
       "max_height": null,
       "max_width": null,
       "min_height": null,
       "min_width": null,
       "object_fit": null,
       "object_position": null,
       "order": null,
       "overflow": null,
       "overflow_x": null,
       "overflow_y": null,
       "padding": null,
       "right": null,
       "top": null,
       "visibility": null,
       "width": null
      }
     },
     "b34bbc9a288140a7a3c430527aaeb06e": {
      "model_module": "@jupyter-widgets/controls",
      "model_module_version": "1.5.0",
      "model_name": "HBoxModel",
      "state": {
       "_dom_classes": [],
       "_model_module": "@jupyter-widgets/controls",
       "_model_module_version": "1.5.0",
       "_model_name": "HBoxModel",
       "_view_count": null,
       "_view_module": "@jupyter-widgets/controls",
       "_view_module_version": "1.5.0",
       "_view_name": "HBoxView",
       "box_style": "",
       "children": [
        "IPY_MODEL_51eaebbb09034702b4e5eba2fe8d11e0",
        "IPY_MODEL_1fbadf4c032e4a5982dfdcab9069a7e3"
       ],
       "layout": "IPY_MODEL_785f64afd8b945809f3ef2322e263aae"
      }
     },
     "c696c2ddb7ca4ffaab5190e2f5c43b1f": {
      "model_module": "@jupyter-widgets/controls",
      "model_module_version": "1.5.0",
      "model_name": "ProgressStyleModel",
      "state": {
       "_model_module": "@jupyter-widgets/controls",
       "_model_module_version": "1.5.0",
       "_model_name": "ProgressStyleModel",
       "_view_count": null,
       "_view_module": "@jupyter-widgets/base",
       "_view_module_version": "1.2.0",
       "_view_name": "StyleView",
       "bar_color": null,
       "description_width": "initial"
      }
     },
     "d7dd810359624171b24aea96a2732874": {
      "model_module": "@jupyter-widgets/base",
      "model_module_version": "1.2.0",
      "model_name": "LayoutModel",
      "state": {
       "_model_module": "@jupyter-widgets/base",
       "_model_module_version": "1.2.0",
       "_model_name": "LayoutModel",
       "_view_count": null,
       "_view_module": "@jupyter-widgets/base",
       "_view_module_version": "1.2.0",
       "_view_name": "LayoutView",
       "align_content": null,
       "align_items": null,
       "align_self": null,
       "border": null,
       "bottom": null,
       "display": null,
       "flex": null,
       "flex_flow": null,
       "grid_area": null,
       "grid_auto_columns": null,
       "grid_auto_flow": null,
       "grid_auto_rows": null,
       "grid_column": null,
       "grid_gap": null,
       "grid_row": null,
       "grid_template_areas": null,
       "grid_template_columns": null,
       "grid_template_rows": null,
       "height": null,
       "justify_content": null,
       "justify_items": null,
       "left": null,
       "margin": null,
       "max_height": null,
       "max_width": null,
       "min_height": null,
       "min_width": null,
       "object_fit": null,
       "object_position": null,
       "order": null,
       "overflow": null,
       "overflow_x": null,
       "overflow_y": null,
       "padding": null,
       "right": null,
       "top": null,
       "visibility": null,
       "width": null
      }
     },
     "dd2791d3c713437da43e81c00b6a9323": {
      "model_module": "@jupyter-widgets/base",
      "model_module_version": "1.2.0",
      "model_name": "LayoutModel",
      "state": {
       "_model_module": "@jupyter-widgets/base",
       "_model_module_version": "1.2.0",
       "_model_name": "LayoutModel",
       "_view_count": null,
       "_view_module": "@jupyter-widgets/base",
       "_view_module_version": "1.2.0",
       "_view_name": "LayoutView",
       "align_content": null,
       "align_items": null,
       "align_self": null,
       "border": null,
       "bottom": null,
       "display": null,
       "flex": null,
       "flex_flow": null,
       "grid_area": null,
       "grid_auto_columns": null,
       "grid_auto_flow": null,
       "grid_auto_rows": null,
       "grid_column": null,
       "grid_gap": null,
       "grid_row": null,
       "grid_template_areas": null,
       "grid_template_columns": null,
       "grid_template_rows": null,
       "height": null,
       "justify_content": null,
       "justify_items": null,
       "left": null,
       "margin": null,
       "max_height": null,
       "max_width": null,
       "min_height": null,
       "min_width": null,
       "object_fit": null,
       "object_position": null,
       "order": null,
       "overflow": null,
       "overflow_x": null,
       "overflow_y": null,
       "padding": null,
       "right": null,
       "top": null,
       "visibility": null,
       "width": null
      }
     },
     "f3c00d9aab9d4dfd8da195c600845a1d": {
      "model_module": "@jupyter-widgets/controls",
      "model_module_version": "1.5.0",
      "model_name": "DescriptionStyleModel",
      "state": {
       "_model_module": "@jupyter-widgets/controls",
       "_model_module_version": "1.5.0",
       "_model_name": "DescriptionStyleModel",
       "_view_count": null,
       "_view_module": "@jupyter-widgets/base",
       "_view_module_version": "1.2.0",
       "_view_name": "StyleView",
       "description_width": ""
      }
     }
    },
    "version_major": 2,
    "version_minor": 0
   }
  }
 },
 "nbformat": 4,
 "nbformat_minor": 4
}
